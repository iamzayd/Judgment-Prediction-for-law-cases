{
 "cells": [
  {
   "cell_type": "code",
   "execution_count": 72,
   "metadata": {},
   "outputs": [
    {
     "name": "stdout",
     "output_type": "stream",
     "text": [
      "1\n",
      "1\n",
      "1\n",
      "1\n",
      "1\n",
      "1\n",
      "1\n",
      "1\n",
      "1\n",
      "1\n",
      "1\n",
      "1\n",
      "1\n",
      "1\n",
      "1\n",
      "1\n",
      "1\n",
      "1\n",
      "1\n",
      "1\n",
      "1\n",
      "1\n",
      "1\n",
      "1\n",
      "1\n",
      "1\n",
      "1\n",
      "1\n",
      "1\n",
      "1\n",
      "1\n",
      "1\n",
      "1\n",
      "1\n",
      "1\n",
      "1\n",
      "1\n",
      "1\n",
      "1\n",
      "1\n",
      "1\n",
      "1\n",
      "1\n",
      "1\n",
      "1\n",
      "1\n",
      "1\n",
      "1\n",
      "1\n",
      "1\n",
      "1\n",
      "1\n",
      "1\n",
      "1\n",
      "1\n",
      "1\n",
      "1\n",
      "1\n",
      "1\n",
      "1\n",
      "1\n",
      "1\n",
      "1\n",
      "1\n",
      "1\n",
      "1\n",
      "1\n",
      "1\n",
      "1\n",
      "1\n",
      "1\n",
      "1\n",
      "1\n",
      "1\n",
      "1\n",
      "1\n",
      "1\n",
      "1\n",
      "1\n",
      "1\n",
      "1\n",
      "1\n",
      "1\n",
      "1\n",
      "1\n",
      "1\n",
      "1\n",
      "1\n",
      "1\n",
      "1\n",
      "1\n",
      "1\n",
      "1\n",
      "1\n",
      "1\n",
      "1\n",
      "1\n",
      "1\n",
      "1\n",
      "1\n",
      "1\n",
      "1\n",
      "1\n",
      "1\n",
      "1\n",
      "1\n",
      "1\n",
      "1\n",
      "1\n",
      "1\n",
      "1\n",
      "1\n",
      "1\n",
      "1\n",
      "1\n",
      "1\n",
      "1\n",
      "1\n",
      "1\n",
      "1\n",
      "1\n",
      "1\n",
      "1\n",
      "1\n",
      "1\n",
      "1\n",
      "1\n",
      "1\n",
      "1\n",
      "1\n",
      "1\n",
      "1\n",
      "1\n",
      "1\n",
      "1\n",
      "1\n",
      "1\n",
      "1\n",
      "1\n"
     ]
    },
    {
     "ename": "AttributeError",
     "evalue": "'NoneType' object has no attribute 'group'",
     "output_type": "error",
     "traceback": [
      "\u001b[1;31m---------------------------------------------------------------------------\u001b[0m",
      "\u001b[1;31mAttributeError\u001b[0m                            Traceback (most recent call last)",
      "\u001b[1;32mc:\\Users\\Najeeb\\Desktop\\SIT Semesters\\Sem 5\\LAWWWWWWWWWWWWWWWWW\\refining dataset.ipynb Cell 1\u001b[0m line \u001b[0;36m<cell line: 16>\u001b[1;34m()\u001b[0m\n\u001b[0;32m     <a href='vscode-notebook-cell:/c%3A/Users/Najeeb/Desktop/SIT%20Semesters/Sem%205/LAWWWWWWWWWWWWWWWWW/refining%20dataset.ipynb#W0sZmlsZQ%3D%3D?line=26'>27</a>\u001b[0m \u001b[39m# Check if the match was found before accessing the group\u001b[39;00m\n\u001b[0;32m     <a href='vscode-notebook-cell:/c%3A/Users/Najeeb/Desktop/SIT%20Semesters/Sem%205/LAWWWWWWWWWWWWWWWWW/refining%20dataset.ipynb#W0sZmlsZQ%3D%3D?line=27'>28</a>\u001b[0m case_name \u001b[39m=\u001b[39m re\u001b[39m.\u001b[39msearch(case_name_pattern, text)\u001b[39m.\u001b[39mgroup(\u001b[39m1\u001b[39m)\n\u001b[1;32m---> <a href='vscode-notebook-cell:/c%3A/Users/Najeeb/Desktop/SIT%20Semesters/Sem%205/LAWWWWWWWWWWWWWWWWW/refining%20dataset.ipynb#W0sZmlsZQ%3D%3D?line=28'>29</a>\u001b[0m date_of_case \u001b[39m=\u001b[39m re\u001b[39m.\u001b[39;49msearch(date_pattern, text)\u001b[39m.\u001b[39;49mgroup(\u001b[39m1\u001b[39m)\n\u001b[0;32m     <a href='vscode-notebook-cell:/c%3A/Users/Najeeb/Desktop/SIT%20Semesters/Sem%205/LAWWWWWWWWWWWWWWWWW/refining%20dataset.ipynb#W0sZmlsZQ%3D%3D?line=31'>32</a>\u001b[0m \u001b[39m# Create a dictionary with extracted information\u001b[39;00m\n\u001b[0;32m     <a href='vscode-notebook-cell:/c%3A/Users/Najeeb/Desktop/SIT%20Semesters/Sem%205/LAWWWWWWWWWWWWWWWWW/refining%20dataset.ipynb#W0sZmlsZQ%3D%3D?line=32'>33</a>\u001b[0m data \u001b[39m=\u001b[39m {\n\u001b[0;32m     <a href='vscode-notebook-cell:/c%3A/Users/Najeeb/Desktop/SIT%20Semesters/Sem%205/LAWWWWWWWWWWWWWWWWW/refining%20dataset.ipynb#W0sZmlsZQ%3D%3D?line=33'>34</a>\u001b[0m     \u001b[39m'\u001b[39m\u001b[39mCase Name\u001b[39m\u001b[39m'\u001b[39m: [case_name],\n\u001b[0;32m     <a href='vscode-notebook-cell:/c%3A/Users/Najeeb/Desktop/SIT%20Semesters/Sem%205/LAWWWWWWWWWWWWWWWWW/refining%20dataset.ipynb#W0sZmlsZQ%3D%3D?line=34'>35</a>\u001b[0m     \u001b[39m'\u001b[39m\u001b[39mDate of Case\u001b[39m\u001b[39m'\u001b[39m: [date_of_case]\n\u001b[0;32m     <a href='vscode-notebook-cell:/c%3A/Users/Najeeb/Desktop/SIT%20Semesters/Sem%205/LAWWWWWWWWWWWWWWWWW/refining%20dataset.ipynb#W0sZmlsZQ%3D%3D?line=35'>36</a>\u001b[0m }\n",
      "\u001b[1;31mAttributeError\u001b[0m: 'NoneType' object has no attribute 'group'"
     ]
    }
   ],
   "source": [
    "import os\n",
    "import re\n",
    "import pandas as pd\n",
    "\n",
    "# Define regular expressions\n",
    "case_name_pattern = r\"In the case of (.+),\"\n",
    "date_pattern = r\"STRASBOURG\\n(.+)\"\n",
    "\n",
    "# Initialize an empty list to store data from all files\n",
    "data_list = []\n",
    "\n",
    "# Directory containing text files\n",
    "directory_path = r\"C:\\Users\\Najeeb\\Desktop\\SIT Semesters\\Sem 5\\LAWWWWWWWWWWWWWWWWW\\Dataset\\nv3\\nv3\"\n",
    "\n",
    "# Iterate through all files in the directory\n",
    "for filename in os.listdir(directory_path):\n",
    "    print(\"1\")\n",
    "    if filename.endswith(\".txt\"):\n",
    "        # Read the text file\n",
    "        file_path = os.path.join(directory_path, filename)\n",
    "        with open(file_path, 'r', encoding='utf-8') as file:\n",
    "            text = file.read()\n",
    "\n",
    "        case_name_pattern = r\"In the case of (.+),\"\n",
    "        date_pattern = r\"STRASBOURG\\n\\n(\\d+ \\w+ \\d{4})\"\n",
    "\n",
    "        # Check if the match was found before accessing the group\n",
    "        case_name = re.search(case_name_pattern, text).group(1)\n",
    "        date_of_case = re.search(date_pattern, text).group(1)\n",
    "\n",
    "\n",
    "        # Create a dictionary with extracted information\n",
    "        data = {\n",
    "            'Case Name': [case_name],\n",
    "            'Date of Case': [date_of_case]\n",
    "        }\n",
    "\n",
    "        # Append the dictionary to the data_list\n",
    "        data_list.append(data)\n",
    "\n",
    "# Create a DataFrame from the list of dictionaries\n",
    "df = pd.DataFrame(data_list)\n",
    "\n",
    "# Print the DataFrame\n",
    "print(df)\n"
   ]
  },
  {
   "cell_type": "code",
   "execution_count": 61,
   "metadata": {},
   "outputs": [
    {
     "data": {
      "text/plain": [
       "0      [None]\n",
       "1      [None]\n",
       "2      [None]\n",
       "3      [None]\n",
       "4      [None]\n",
       "        ...  \n",
       "555    [None]\n",
       "556    [None]\n",
       "557    [None]\n",
       "558    [None]\n",
       "559    [None]\n",
       "Name: After Reasons, Length: 560, dtype: object"
      ]
     },
     "execution_count": 61,
     "metadata": {},
     "output_type": "execute_result"
    }
   ],
   "source": [
    "df['After Reasons']"
   ]
  },
  {
   "cell_type": "code",
   "execution_count": 62,
   "metadata": {},
   "outputs": [
    {
     "data": {
      "text/plain": [
       "NoneType"
      ]
     },
     "execution_count": 62,
     "metadata": {},
     "output_type": "execute_result"
    }
   ],
   "source": [
    "type(df['After Reasons'][559][0])"
   ]
  },
  {
   "cell_type": "code",
   "execution_count": 67,
   "metadata": {},
   "outputs": [
    {
     "name": "stdout",
     "output_type": "stream",
     "text": [
      "Count of rows where 'column_name' contains [None]: 0\n"
     ]
    }
   ],
   "source": [
    "import pandas as pd\n",
    "\n",
    "# Assuming df is your DataFrame\n",
    "count = df[df['After Reasons'].apply(lambda x: [None] in x)].shape[0]\n",
    "\n",
    "print(\"Count of rows where 'column_name' contains [None]:\", count)\n"
   ]
  },
  {
   "cell_type": "code",
   "execution_count": 64,
   "metadata": {},
   "outputs": [
    {
     "data": {
      "text/plain": [
       "Name of Case     0\n",
       "Section          0\n",
       "Procedure        0\n",
       "Facts            0\n",
       "The Law          0\n",
       "After Reasons    0\n",
       "dtype: int64"
      ]
     },
     "execution_count": 64,
     "metadata": {},
     "output_type": "execute_result"
    }
   ],
   "source": [
    "df.isna().sum()"
   ]
  },
  {
   "cell_type": "code",
   "execution_count": 50,
   "metadata": {},
   "outputs": [
    {
     "name": "stdout",
     "output_type": "stream",
     "text": [
      "Columns with [None]: []\n"
     ]
    },
    {
     "name": "stderr",
     "output_type": "stream",
     "text": [
      "C:\\Users\\Najeeb\\AppData\\Local\\Temp\\ipykernel_22516\\972031421.py:1: FutureWarning: Support for multi-dimensional indexing (e.g. `obj[:, None]`) is deprecated and will be removed in a future version.  Convert to a numpy array before indexing instead.\n",
      "  columns_with_none = df.columns[df.apply(lambda col: col.tolist() == [\"None\"]).any()]\n"
     ]
    }
   ],
   "source": [
    "columns_with_none = df.columns[df.apply(lambda col: col.tolist() == [\"None\"]).any()]\n",
    "\n",
    "# Print columns with [None]\n",
    "print(\"Columns with [None]:\", columns_with_none)"
   ]
  },
  {
   "cell_type": "code",
   "execution_count": null,
   "metadata": {},
   "outputs": [],
   "source": []
  },
  {
   "cell_type": "code",
   "execution_count": null,
   "metadata": {},
   "outputs": [],
   "source": []
  },
  {
   "cell_type": "markdown",
   "metadata": {},
   "source": [
    "# #####################################################################################################d "
   ]
  },
  {
   "cell_type": "code",
   "execution_count": 66,
   "metadata": {},
   "outputs": [
    {
     "name": "stdout",
     "output_type": "stream",
     "text": [
      "               Name of Case          Section  \\\n",
      "0  [HRISTOSKOV v. BULGARIA]  [Fifth Section]   \n",
      "\n",
      "                                                                                                                                                                                                                                                                                                                                                                                                                                                                                                                                                                                                                                                                                                                                                                                                                                  Procedure  \\\n",
      "0  [1.  The case originated in an application (no. 50760/09) against the Republic of Bulgaria lodged with the Court under Article 34 of the Convention for the Protection of Human Rights and Fundamental Freedoms (“the Convention”) by a Bulgarian national, Mr Emil Petrov Hristoskov (“the applicant”), on 15 August 2009.\\n\\n2.  The applicant was represented by Ms S. Margaritova-Vuchkova, a lawyer practising in Sofia. The Bulgarian Government (“the Government”) were represented by their Agent, Mr V. Obretenov of the Ministry of Justice.\\n\\n3.  On 24 September 2015 the Government were given notice of the complaint concerning the conditions of the applicant’s detention in Kremikovtsi Prison Hostel, and the remainder of the application was declared inadmissible pursuant to Rule 54 § 3 of the Rules of Court.]   \n",
      "\n",
      "                                                                                                                                                                                                                                                                                                                                                                                                                                                                                                                                                                                                                                                                                                                                                                                                                                                                                                                                                                                                                                                                                                                                                                                                                                                                                                                                                                                                                                                                                                                                                                                                                                                                                                                                                                                                                                                                                                                                                                                                                                                                                                                                                                                                                                                                                                                                                                                                                                                                                                                                                                                                                                                                                                                                                                                                                                                                                                                                                                                                                                                                                                                                                                                                                                                                                                                                                                                                                                                                                                                                                                                                                                                                                                                                                                                                                                                                                                                                                                                                                                                                                                                                                                                                                                                                                                                                                                                                                                                                                                                                                                                                                                                            Facts  \\\n",
      "0  [I.  THE CIRCUMSTANCES OF THE CASE\\n\\n4.  The applicant was born in 1961 and is currently detained in Kremikovtsi Prison Hostel near Sofia.\\n\\n5.  In a final judgment of 23 February 2009, the applicant was convicted of murder and sentenced to twelve years’ imprisonment. On 6 April 2009 he entered Sofia Prison to serve his sentence. He did not say anything about the conditions of his detention there.\\n\\n6.  On 21 August 2009 he was transferred to Kremikovtsi Prison Hostel, a closed-type prison hostel.\\n\\n7.  On 26 August 2009 the serving of his sentence of imprisonment was interrupted in order for him to take care of his elderly mother, who had undergone hip-replacement surgery in July 2009. The interruption came to an end on 26 October 2009, and the applicant was again placed in Kremikovtsi Prison Hostel.\\n\\n8.  From 26 October 2009 until 28 October 2010 the applicant was placed in group no. 72. According to him, the group was housed in several cabins with cement floors. The cells were heated with wooden and coal stoves. They were damp and had many of their windows broken and doors shattered. Each cell had between thirty and thirty-five square metres of floor space and housed between sixteen and twenty-two inmates – that is, provided less than two square metres per inmate –, and had one sink and one toilet with a shower. According to the Government, the cell measured between thirty-five and forty square metres and housed around twelve inmates.\\n\\n9.  The applicant further said that cold water was only available between 6 and 8 a.m. and 6 and 8 p.m., and hot water was only available between 8 and 9 a.m. and 7 and 8 p.m. Hygienic and sanitary materials were not regularly provided. There was no canteen or dedicated eating space, and no cutlery. As a result of those conditions – mainly the cold and the humidity –he had developed arthritis of both knees.\\n\\n10.  On 28 October 2010 the applicant was transferred to group no. 6. He was placed in a cell which he shared with three to four other inmates. He also started working in the hostel’s canteen and had his meals there. According to the Government, the applicant had to share a cell with two to three inmates. The cell was heated with electricity and there were no water supply restrictions. The door and the windows were in good condition.\\n\\n11.  After the applicant’s prison regime was changed to a more lenient one, on 19 November 2014 he was placed in a cell outside the guarded area of the hostel. The Government submitted that his cell had its own sanitary facilities and that no water supply restrictions existed.\\n\\n12.  According to the applicant, material conditions in the cells in which he was placed after 28 October 2010 were significantly better in terms of heating, lighting and hygiene, and were satisfactory. Food was also of good quality. Taking a shower, however, was only possible after 10 p.m. due to low water pressure.\\n\\n13.  Lastly, the applicant alleged that health care in custody was inadequate, with no qualified doctors but only a dentist working on site, and no provision of medicines at reduced prices, as available to people out of prison.\\n\\nII.  RELEVANT REPORTS ON THE CONDITIONS IN KREMIKOVTSI PRISON HOSTEL\\n\\n14.  Kremikovtsi Prison is a closed-type prison hostel attached to Sofia Prison.\\n\\n15.  According to the 2010 report of the Committee for the Prevention of Torture and Inhuman or Degrading Treatment or Punishment (“the CPT”) on the visit to Bulgaria from 15 to 19 December 2008, in 2008 the number of the inmates detained in that facility was 622.\\n\\n16.  In its 2008 report The Prisons in Bulgaria the Bulgarian Helsinki Committee noted poor material conditions, overcrowding and problems with health care in closed-types prison hostels. According to the same report in 2007 the health-care staff in Kremikovtsi Prison Hostel consisted only of a dentist and a feldsher.\\n\\n17.  According to information provided by the Government to the Council of Europe’s Committee of Ministers, in December 2013 the official capacity of the prison hostel was 426, whereas the actual number of inmates housed there was 493 (see Neshkov and Others v. Bulgaria, nos. 36925/10 and 5 others, § 143, 27 January 2015).\\n\\n18.  In the 2012 report and 2016 report adopted under the national preventive mechanism, the Ombudsman of Bulgaria recommended that Kremikovtsi Prison Hostel be closed due to severe overcrowding, poor hygiene and unsanitary living conditions.]   \n",
      "\n",
      "                                                                                                                                                                                                                                                                                                                                                                                                                                                                                                                                                                                                                                                                                                                                                                                                                                                                                                                                                                                                                                                                                                                                                                                                                                                                                                                                                                                                                                                                                                                                                                                                                                                                                                                                                                                                                                                                                                                                                                                                                                                                                                                                                                                                                                                                                                                                                                                                                                                                                                                                                                                                                                                                                                                                                                                                                                                                                                                                                                                                                                                                                                                                                                                                                                                                                                                                                                                                                                                                                                                                                                                                                                                                                                                                                                                                                                                                                                                                                                                                                                                                                                                                                                                                                                                                                                                                                                                                                                                                                                                                                                                                                                                                                                                                                                                                                                                                                                                                                                                                                                                                                                                                                                                                                                                                                                                                                                                                                                                                                                                                                                                                                                                                                                                                                                                                                                                                                                                                                                                                                                                                                                                                                                                                                                                                                                                                                                                                                                                                                                                                                                                                                                                                                                                                                                                                                                                                                                                                                                                                                                                                                                                                                                                                                                                                                                                                                                                                                                                                                                                                                                                                                                                                                                                                                                                                                                                                                                                                                                                                                                                                                                                                                                                                                                                                                                                                                                                                                                                                                                                                                                                                                                                                                                                                                                                                                     The Law  \\\n",
      "0  [I.  SCOPE OF THE CASE\\n\\n19.  After notice of the application was given to the Government, in his observations of 29 March 2016 in reply to those of the Government the applicant, who suffers from thyroid dysfunction and arthritis, complained under Article 3 of the Convention that he had not been provided with proper health care for these medical conditions in custody. Relying on the same Article, he also complained that his mother had died in February 2016 because he had been unable to take care of her owing to the authorities’ refusal to interrupt the serving of his sentence or to grant him early release.\\n\\n20.  The Government did not comment on these points.\\n\\n21.  The Court notes that in his initial application the applicant did not raise a complaint about the lack of proper medical care in custody, separate from the complaint about the material conditions of his detention. In his initial application he did rely on Article 3 of the Convention with regard to the authorities’ refusal to interrupt the serving of his sentence in 2009, when his mother had undergone hip-replacement surgery, and with regard to the prison authorities’ alleged failure to manage properly the hunger strike which he had undertaken to protest against that refusal; those complaints were declared inadmissible by the President under Rule 54 § 3 of the Rules of Court. However, the two complaints raised after notice of the application was given to the Government concern new facts, which took place several years after the lodging of the application in 2009.\\n\\n22.  In these circumstances, the two complaints raised in the applicant’s observations in reply to those of the Government must be regarded as new rather than an elaboration of the original complaint concerning the conditions of his detention. It is therefore not appropriate to take them up for examination at this stage (see, among other authorities, Shesti Mai Engineering OOD and Others v. Bulgaria, no. 17854/04, § 94, 20 September 2011, Rafig Aliyev v. Azerbaijan, no. 45875/06, § 69, 6 December 2011; and Yefimova v. Russia, no. 39786/09, § 177, 19 February 2013).\\n\\nII.  THE CONDITIONS OF THE APPLICANT’S DETENTION\\n\\n23.  The applicant complained of the conditions of his detention in Kremikovtsi Prison Hostel. He relied on Article 3 of the Convention, which provides:\\n\\n“No one shall be subjected to torture or to inhuman or degrading treatment or punishment.”\\n\\nA.  Admissibility\\n\\n24.  The complaint is not manifestly ill-founded within the meaning of Article 35 § 3 (a) of the Convention or inadmissible on any other grounds. It must therefore be declared admissible.\\n\\nB.  Merits\\n\\n1.  The conditions of the applicant’s detention from 21 August 2009 until 28 October 2010\\n\\n25.  The applicant was initially housed in one of the buildings of Kremikovtsi Prison Hostel situated in the guarded area of the hostel. He remained there a little more than a year, between August 2009 and October 2010, with a gap of two months, between August and October 2009, when the serving of his sentence was interrupted. After 28 October 2010 he was transferred to another cell.\\n\\n26.  In 2010 the CPT noted that the number of inmates housed in Kremikovtsi Prison Hostel in 2008 was 622, which was higher than its official capacity of 426 (see paragraphs 15 and 17 above). In 2008 the Bulgarian Helsinki Committee made similar findings (see paragraph 16 above). In his 2012 report the Ombudsman likewise noted severe overcrowding, poor hygiene and bad sanitary living conditions in Kremikovtsi Prison Hostel (see paragraph 18 above). All these findings match the applicant’s allegations (see paragraphs 8 and 9 above).\\n\\n27.  The Court refers to the principles established in its case-law regarding poor conditions of detention (see, a recent authority, Muršić v. Croatia [GC], no. 7334/13, §§ 96-101, ECHR 2016). It notes in particular that a severe lack of space in a detention cell weighs heavily for establishing whether conditions of detention amount to “degrading treatment” within the meaning of Article 3 of the Convention, and may disclose a violation, both alone or taken together with other shortcomings (ibid., §§ 122-41).\\n\\n28.  In the pilot case of Neshkov and Others v. Bulgaria (nos. 36925/10 and 5 others, §§ 245-56, 27 January 2015), the Court already found a breach of Article 3 of the Convention in relation to issues similar to those in the present case.\\n\\n29.  Having examined all the material before it and taking into account its case-law on this domain, the Court considers that the conditions of the applicant’s detention from 21 August 2009 until 28 October 2010 in Kremikovtsi Prison Hostel (with the exception of the period from 26 August 2009 until 26 October 2009, when the serving of the applicant’s sentence was interrupted) were in breach of Article 3 of the Convention.\\n\\n2.  The conditions of the applicant’s detention after 28 October 2010\\n\\n30.  The Court notes that the only point raised by the applicant in respect of the conditions of his detention after 28 October 2010, when he was transferred to another cell, relates to insufficient access to water for taking a shower due to lower water pressure. The Government disputed those allegations, saying that there had been no restrictions on the water supply.\\n\\n31.  Having regard to the overall conditions in which the applicant was detained in Kremikovtsi Prison Hostel after 28 October 2010, the Court concludes that they did not reach the threshold of severity required under Article 3 of the Convention.\\n\\n32.  It follows that there has been no breach of Article 3 of the Convention with respect to this period.\\n\\nIII.  APPLICATION OF ARTICLE 41 OF THE CONVENTION\\n\\n33.  Article 41 of the Convention provides:\\n\\n“If the Court finds that there has been a violation of the Convention or the Protocols thereto, and if the internal law of the High Contracting Party concerned allows only partial reparation to be made, the Court shall, if necessary, afford just satisfaction to the injured party.”\\n\\nA.  Damage\\n\\n34.  The applicant claimed 1,080,000 Bulgarian levs (BGN) (552,195 euros (EUR)) in respect of the income which he would have allegedly been able to earn if he had not been imprisoned. His representative claimed on his behalf EUR 6,000 in respect of non-pecuniary damage.\\n\\n35.  The Government submitted that the claims were unjustified and excessive.\\n\\n36.  Regarding the claim in respect of pecuniary damage, the Court finds no causal link between the conditions of the applicant’s detention and his alleged loss of earnings (see Dvoynykh v. Ukraine, no. 72277/01, § 76, 12 October 2006); that loss was due to his imprisonment rather than the conditions in which it took place.\\n\\n37.  As for the claim in respect of non-pecuniary damage, the Court notes that the breach of Article 3 of the Convention concerned the applicant’s detention in poor conditions for a period of about a year. Having regard to the materials in its possession and its case-law, the Court finds it reasonable to award him EUR 3,000 in respect of non-pecuniary damage.\\n\\nB.  Costs and expenses\\n\\n38.  The applicant sought reimbursement of EUR 1,140 incurred in lawyer’s fees for nineteen hours of work on his case after notice of the application had been given to the Government, at the rate of EUR 60 per hour. He also sought reimbursement of BGN 331 (EUR 169) incurred for the translation and copying of documents and for postage. He requested that any award under this head be made directly payable to his representative, Ms S. Margaritova-Vuchkova.\\n\\n39.  The Government submitted that the postal and translation expenses claimed by the applicant should be granted. They objected to the representative’s hourly rate, which in their view was excessive.\\n\\n40.  Having regard to the documents in its possession and its case-law, the Court finds it reasonable to award EUR 600 in respect of the legal fees incurred for the proceedings before the Court. With regard to the claim for other expenses, the Court notes that the documents submitted by the applicant showed that the expenses incurred by him were in fact BGN 326 (EUR 167), which sum should be awarded under this head of the claim.\\n\\nC.  Default interest\\n\\n41.  The Court considers it appropriate that the default interest rate should be based on the marginal lending rate of the European Central Bank, to which should be added three percentage points.]   \n",
      "\n",
      "                                                                                                                                                                                                                                                                                                                                                                                                                                                                                                                                                                                                                                                                                                                                                                                                                                                                                                                                                                                                                                                                                                                                                                                                                                                                                                                                                                                                                                                                                                                                                                                                                                                                                                           After Reasons  \n",
      "0  [1.  Declares the complaint under Article 3 concerning the conditions of the applicant’s detention in Kremikovtsi Prison Hostel admissible;\\n\\n2.  Holds that there has been a violation of Article 3 of the Convention with respect to the applicant’s detention in Kremikovtsi Prison Hostel from 21 August 2009 until 28 October 2010 (with the exception of the period from 26 August 2009 until 26 October 2009);\\n\\n3.  Holds that there has been no violation of Article 3 of the Convention with respect to the applicant’s detention in Kremikovtsi Prison Hostel after 28 October 2010;\\n\\n4.  Holds\\n\\n(a)  that the respondent State is to pay the applicant within three months, the following amounts, to be converted into Bulgarian levs at the rate applicable at the date of settlement:\\n\\n(i)  EUR 3,000 (three thousand euros), plus any tax that may be chargeable, in respect of non-pecuniary damage;\\n\\n(ii)  EUR 767 (seven hundred and sixty-seven euros), plus any tax that may be chargeable to the applicant, in respect of costs and expenses, to be paid directly to his representative, Ms S. Margaritova-Vuchkova;\\n\\n(b)  that from the expiry of the above-mentioned three months until settlement simple interest shall be payable on the above amounts at a rate equal to the marginal lending rate of the European Central Bank during the default period plus three percentage points;\\n\\n5.  Dismisses the remainder of the applicant’s claim for just satisfaction.\\n\\nDone in English, and notified in writing on 15 February 2018, pursuant to Rule 77 §§ 2 and 3 of the Rules of Court.\\n\\n Anne-Marie DouginGabriele Kucsko-StadlmayerActing Deputy RegistrarPresident]  \n",
      "Columns with [None]: []\n"
     ]
    },
    {
     "name": "stderr",
     "output_type": "stream",
     "text": [
      "C:\\Users\\Najeeb\\AppData\\Local\\Temp\\ipykernel_22516\\3129383662.py:60: FutureWarning: Support for multi-dimensional indexing (e.g. `obj[:, None]`) is deprecated and will be removed in a future version.  Convert to a numpy array before indexing instead.\n",
      "  columns_with_none = df.columns[df.apply(lambda col: col.tolist() == [None]).any()]\n"
     ]
    }
   ],
   "source": [
    "import os\n",
    "import re\n",
    "import pandas as pd\n",
    "\n",
    "# Define regular expressions\n",
    "case_pattern = r\"CASE OF (.+?)\\n\"\n",
    "committee_pattern = r\"The European Court of Human Rights \\((.*?)\\),\"\n",
    "procedure_pattern = r\"PROCEDURE\\n(.*?)\\n\\nTHE FACTS\"\n",
    "facts_pattern = r\"THE FACTS\\n\\n(.*?)\\n\\nTHE LAW\"\n",
    "law_pattern = r\"THE LAW\\n\\n(.*?)\\n\\nFOR THESE REASONS\"\n",
    "reasons_after_pattern = r'FOR THESE REASONS, THE COURT, UNANIMOUSLY,(.*?)$'\n",
    "\n",
    "# Initialize an empty list to store data from all files\n",
    "data_list = []\n",
    "\n",
    "# Directory containing text files\n",
    "directory_path = r\"C:\\Users\\Najeeb\\Desktop\\SIT Semesters\\Sem 5\\LAWWWWWWWWWWWWWWWWW\\Dataset\\nv3\\nv3\"\n",
    "\n",
    "# Iterate through all files in the directory\n",
    "\n",
    "filename = \"2.txt\"\n",
    "# Read the text file using a 'with' statement\n",
    "file_path = os.path.join(directory_path, filename)\n",
    "with open(file_path, 'r', encoding='utf-8') as file:\n",
    "    text = file.read()\n",
    "\n",
    "# Extract information using regular expressions\n",
    "case_match = re.search(case_pattern, text, re.DOTALL)\n",
    "committee_match = re.search(committee_pattern, text)\n",
    "procedure_match = re.search(procedure_pattern, text, re.DOTALL)\n",
    "facts_match = re.search(facts_pattern, text, re.DOTALL)\n",
    "law_match = re.search(law_pattern, text, re.DOTALL)\n",
    "reasons_after_match = re.search(reasons_after_pattern, text, re.DOTALL)\n",
    "\n",
    "# Check if the match was found before accessing the group\n",
    "case_text = case_match.group(1).strip() if case_match else None\n",
    "committee_text = committee_match.group(1).strip() if committee_match else None\n",
    "procedure_text = procedure_match.group(1).strip() if procedure_match else None\n",
    "facts_text = facts_match.group(1).strip() if facts_match else None\n",
    "law_text = law_match.group(1).strip() if law_match else None\n",
    "reasons_after_text = reasons_after_match.group(1).strip() if reasons_after_match else None\n",
    "\n",
    "# Create a dictionary with extracted information\n",
    "data = {\n",
    "    'Name of Case': [case_text],\n",
    "    'Section': [committee_text],\n",
    "    'Procedure': [procedure_text],\n",
    "    'Facts': [facts_text],\n",
    "    'The Law': [law_text],\n",
    "    'After Reasons': [reasons_after_text]\n",
    "}\n",
    "\n",
    "# Append the dictionary to the data_list\n",
    "data_list.append(data)\n",
    "\n",
    "# Create a DataFrame from the list of dictionaries\n",
    "df = pd.DataFrame(data_list)\n",
    "\n",
    "# Check for columns with [None]\n",
    "columns_with_none = df.columns[df.apply(lambda col: col.tolist() == [None]).any()]\n",
    "\n",
    "# Print the DataFrame\n",
    "print(df)\n",
    "\n",
    "# Print columns with [None]\n",
    "print(\"Columns with [None]:\", columns_with_none)\n"
   ]
  },
  {
   "cell_type": "code",
   "execution_count": 67,
   "metadata": {},
   "outputs": [
    {
     "data": {
      "text/plain": [
       "0    [1.  Declares the complaint under Article 3 concerning the conditions of the applicant’s detention in Kremikovtsi Prison Hostel admissible;\\n\\n2.  Holds that there has been a violation of Article 3 of the Convention with respect to the applicant’s detention in Kremikovtsi Prison Hostel from 21 August 2009 until 28 October 2010 (with the exception of the period from 26 August 2009 until 26 October 2009);\\n\\n3.  Holds that there has been no violation of Article 3 of the Convention with respect to the applicant’s detention in Kremikovtsi Prison Hostel after 28 October 2010;\\n\\n4.  Holds\\n\\n(a)  that the respondent State is to pay the applicant within three months, the following amounts, to be converted into Bulgarian levs at the rate applicable at the date of settlement:\\n\\n(i)  EUR 3,000 (three thousand euros), plus any tax that may be chargeable, in respect of non-pecuniary damage;\\n\\n(ii)  EUR 767 (seven hundred and sixty-seven euros), plus any tax that may be chargeable to the applicant, in respect of costs and expenses, to be paid directly to his representative, Ms S. Margaritova-Vuchkova;\\n\\n(b)  that from the expiry of the above-mentioned three months until settlement simple interest shall be payable on the above amounts at a rate equal to the marginal lending rate of the European Central Bank during the default period plus three percentage points;\\n\\n5.  Dismisses the remainder of the applicant’s claim for just satisfaction.\\n\\nDone in English, and notified in writing on 15 February 2018, pursuant to Rule 77 §§ 2 and 3 of the Rules of Court.\\n\\n Anne-Marie DouginGabriele Kucsko-StadlmayerActing Deputy RegistrarPresident]\n",
       "Name: After Reasons, dtype: object"
      ]
     },
     "execution_count": 67,
     "metadata": {},
     "output_type": "execute_result"
    }
   ],
   "source": [
    "df['After Reasons']"
   ]
  },
  {
   "cell_type": "code",
   "execution_count": null,
   "metadata": {},
   "outputs": [],
   "source": []
  },
  {
   "cell_type": "code",
   "execution_count": null,
   "metadata": {},
   "outputs": [],
   "source": []
  },
  {
   "cell_type": "code",
   "execution_count": null,
   "metadata": {},
   "outputs": [],
   "source": []
  },
  {
   "cell_type": "code",
   "execution_count": null,
   "metadata": {},
   "outputs": [],
   "source": []
  },
  {
   "cell_type": "code",
   "execution_count": 57,
   "metadata": {},
   "outputs": [],
   "source": [
    "import re\n",
    "import pandas as pd\n",
    "\n",
    "# Read the text file\n",
    "with open(r\"C:\\Users\\Najeeb\\Desktop\\SIT Semesters\\Sem 5\\LAWWWWWWWWWWWWWWWWW\\Dataset\\nv3\\nv3\\2.txt\", 'r', encoding='utf-8') as file:\n",
    "    text = file.read()\n",
    "\n",
    "# Define regular expressions to extract information\n",
    "case_pattern = r\"CASE OF (.+?)\\n\"\n",
    "committee_pattern = r\"The European Court of Human Rights \\((.*?)\\),\"\n",
    "procedure_pattern = r\"PROCEDURE\\n(.*?)\\n\\nTHE FACTS\"\n",
    "facts_pattern = r\"THE FACTS\\n\\n(.*?)\\n\\nTHE LAW\"\n",
    "law_pattern = r\"THE LAW\\n\\n(.*?)\\n\\nFOR THESE REASONS\"\n",
    "\n",
    "# Extract information using regular expressions\n",
    "case_match = re.search(case_pattern, text, re.DOTALL)\n",
    "committee_match = re.search(committee_pattern, text)\n",
    "procedure_match = re.search(procedure_pattern, text, re.DOTALL)\n",
    "facts_match = re.search(facts_pattern, text, re.DOTALL)\n",
    "law_match = re.search(law_pattern, text, re.DOTALL)\n",
    "\n",
    "# Create a dictionary with extracted information\n",
    "data = {\n",
    "    'Name of Case': [case_match.group(1).strip()],\n",
    "    'Section': [committee_match.group(1).strip()],\n",
    "    'Procedure': [procedure_match.group(1).strip()],\n",
    "    'Facts': [facts_match.group(1).strip()],\n",
    "    'The Law': [law_match.group(1).strip()]\n",
    "}\n",
    "reasons_after_pattern = r'FOR THESE REASONS, THE COURT, UNANIMOUSLY,(.*?)$'\n",
    "\n",
    "# Find matches for the new pattern\n",
    "reasons_after_match = re.search(reasons_after_pattern, text, re.DOTALL)\n",
    "\n",
    "# Check if the match was found before accessing the group\n",
    "reasons_after_text = reasons_after_match.group(1).strip() if reasons_after_match else None\n",
    "\n",
    "# Add the new column to the DataFrame\n",
    "\n",
    "# Create a DataFrame\n",
    "df = pd.DataFrame(data)\n",
    "df['After Reasons'] = [reasons_after_text]\n"
   ]
  },
  {
   "cell_type": "code",
   "execution_count": 59,
   "metadata": {},
   "outputs": [
    {
     "data": {
      "text/html": [
       "<div>\n",
       "<style scoped>\n",
       "    .dataframe tbody tr th:only-of-type {\n",
       "        vertical-align: middle;\n",
       "    }\n",
       "\n",
       "    .dataframe tbody tr th {\n",
       "        vertical-align: top;\n",
       "    }\n",
       "\n",
       "    .dataframe thead th {\n",
       "        text-align: right;\n",
       "    }\n",
       "</style>\n",
       "<table border=\"1\" class=\"dataframe\">\n",
       "  <thead>\n",
       "    <tr style=\"text-align: right;\">\n",
       "      <th></th>\n",
       "      <th>Name of Case</th>\n",
       "      <th>Section</th>\n",
       "      <th>Procedure</th>\n",
       "      <th>Facts</th>\n",
       "      <th>The Law</th>\n",
       "      <th>After Reasons</th>\n",
       "    </tr>\n",
       "  </thead>\n",
       "  <tbody>\n",
       "    <tr>\n",
       "      <th>0</th>\n",
       "      <td>HRISTOSKOV v. BULGARIA</td>\n",
       "      <td>Fifth Section</td>\n",
       "      <td>1.  The case originated in an application (no. 50760/09) against the Republic of Bulgaria lodged with the Court under Article 34 of the Convention for the Protection of Human Rights and Fundamental Freedoms (“the Convention”) by a Bulgarian national, Mr Emil Petrov Hristoskov (“the applicant”), on 15 August 2009.\\n\\n2.  The applicant was represented by Ms S. Margaritova-Vuchkova, a lawyer practising in Sofia. The Bulgarian Government (“the Government”) were represented by their Agent, Mr V. Obretenov of the Ministry of Justice.\\n\\n3.  On 24 September 2015 the Government were given notice of the complaint concerning the conditions of the applicant’s detention in Kremikovtsi Prison Hostel, and the remainder of the application was declared inadmissible pursuant to Rule 54 § 3 of the Rules of Court.</td>\n",
       "      <td>I.  THE CIRCUMSTANCES OF THE CASE\\n\\n4.  The applicant was born in 1961 and is currently detained in Kremikovtsi Prison Hostel near Sofia.\\n\\n5.  In a final judgment of 23 February 2009, the applicant was convicted of murder and sentenced to twelve years’ imprisonment. On 6 April 2009 he entered Sofia Prison to serve his sentence. He did not say anything about the conditions of his detention there.\\n\\n6.  On 21 August 2009 he was transferred to Kremikovtsi Prison Hostel, a closed-type prison hostel.\\n\\n7.  On 26 August 2009 the serving of his sentence of imprisonment was interrupted in order for him to take care of his elderly mother, who had undergone hip-replacement surgery in July 2009. The interruption came to an end on 26 October 2009, and the applicant was again placed in Kremikovtsi Prison Hostel.\\n\\n8.  From 26 October 2009 until 28 October 2010 the applicant was placed in group no. 72. According to him, the group was housed in several cabins with cement floors. The cells were heated with wooden and coal stoves. They were damp and had many of their windows broken and doors shattered. Each cell had between thirty and thirty-five square metres of floor space and housed between sixteen and twenty-two inmates – that is, provided less than two square metres per inmate –, and had one sink and one toilet with a shower. According to the Government, the cell measured between thirty-five and forty square metres and housed around twelve inmates.\\n\\n9.  The applicant further said that cold water was only available between 6 and 8 a.m. and 6 and 8 p.m., and hot water was only available between 8 and 9 a.m. and 7 and 8 p.m. Hygienic and sanitary materials were not regularly provided. There was no canteen or dedicated eating space, and no cutlery. As a result of those conditions – mainly the cold and the humidity –he had developed arthritis of both knees.\\n\\n10.  On 28 October 2010 the applicant was transferred to group no. 6. He was placed in a cell which he shared with three to four other inmates. He also started working in the hostel’s canteen and had his meals there. According to the Government, the applicant had to share a cell with two to three inmates. The cell was heated with electricity and there were no water supply restrictions. The door and the windows were in good condition.\\n\\n11.  After the applicant’s prison regime was changed to a more lenient one, on 19 November 2014 he was placed in a cell outside the guarded area of the hostel. The Government submitted that his cell had its own sanitary facilities and that no water supply restrictions existed.\\n\\n12.  According to the applicant, material conditions in the cells in which he was placed after 28 October 2010 were significantly better in terms of heating, lighting and hygiene, and were satisfactory. Food was also of good quality. Taking a shower, however, was only possible after 10 p.m. due to low water pressure.\\n\\n13.  Lastly, the applicant alleged that health care in custody was inadequate, with no qualified doctors but only a dentist working on site, and no provision of medicines at reduced prices, as available to people out of prison.\\n\\nII.  RELEVANT REPORTS ON THE CONDITIONS IN KREMIKOVTSI PRISON HOSTEL\\n\\n14.  Kremikovtsi Prison is a closed-type prison hostel attached to Sofia Prison.\\n\\n15.  According to the 2010 report of the Committee for the Prevention of Torture and Inhuman or Degrading Treatment or Punishment (“the CPT”) on the visit to Bulgaria from 15 to 19 December 2008, in 2008 the number of the inmates detained in that facility was 622.\\n\\n16.  In its 2008 report The Prisons in Bulgaria the Bulgarian Helsinki Committee noted poor material conditions, overcrowding and problems with health care in closed-types prison hostels. According to the same report in 2007 the health-care staff in Kremikovtsi Prison Hostel consisted only of a dentist and a feldsher.\\n\\n17.  According to information provided by the Government to the Council of Europe’s Committee of Ministers, in December 2013 the official capacity of the prison hostel was 426, whereas the actual number of inmates housed there was 493 (see Neshkov and Others v. Bulgaria, nos. 36925/10 and 5 others, § 143, 27 January 2015).\\n\\n18.  In the 2012 report and 2016 report adopted under the national preventive mechanism, the Ombudsman of Bulgaria recommended that Kremikovtsi Prison Hostel be closed due to severe overcrowding, poor hygiene and unsanitary living conditions.</td>\n",
       "      <td>I.  SCOPE OF THE CASE\\n\\n19.  After notice of the application was given to the Government, in his observations of 29 March 2016 in reply to those of the Government the applicant, who suffers from thyroid dysfunction and arthritis, complained under Article 3 of the Convention that he had not been provided with proper health care for these medical conditions in custody. Relying on the same Article, he also complained that his mother had died in February 2016 because he had been unable to take care of her owing to the authorities’ refusal to interrupt the serving of his sentence or to grant him early release.\\n\\n20.  The Government did not comment on these points.\\n\\n21.  The Court notes that in his initial application the applicant did not raise a complaint about the lack of proper medical care in custody, separate from the complaint about the material conditions of his detention. In his initial application he did rely on Article 3 of the Convention with regard to the authorities’ refusal to interrupt the serving of his sentence in 2009, when his mother had undergone hip-replacement surgery, and with regard to the prison authorities’ alleged failure to manage properly the hunger strike which he had undertaken to protest against that refusal; those complaints were declared inadmissible by the President under Rule 54 § 3 of the Rules of Court. However, the two complaints raised after notice of the application was given to the Government concern new facts, which took place several years after the lodging of the application in 2009.\\n\\n22.  In these circumstances, the two complaints raised in the applicant’s observations in reply to those of the Government must be regarded as new rather than an elaboration of the original complaint concerning the conditions of his detention. It is therefore not appropriate to take them up for examination at this stage (see, among other authorities, Shesti Mai Engineering OOD and Others v. Bulgaria, no. 17854/04, § 94, 20 September 2011, Rafig Aliyev v. Azerbaijan, no. 45875/06, § 69, 6 December 2011; and Yefimova v. Russia, no. 39786/09, § 177, 19 February 2013).\\n\\nII.  THE CONDITIONS OF THE APPLICANT’S DETENTION\\n\\n23.  The applicant complained of the conditions of his detention in Kremikovtsi Prison Hostel. He relied on Article 3 of the Convention, which provides:\\n\\n“No one shall be subjected to torture or to inhuman or degrading treatment or punishment.”\\n\\nA.  Admissibility\\n\\n24.  The complaint is not manifestly ill-founded within the meaning of Article 35 § 3 (a) of the Convention or inadmissible on any other grounds. It must therefore be declared admissible.\\n\\nB.  Merits\\n\\n1.  The conditions of the applicant’s detention from 21 August 2009 until 28 October 2010\\n\\n25.  The applicant was initially housed in one of the buildings of Kremikovtsi Prison Hostel situated in the guarded area of the hostel. He remained there a little more than a year, between August 2009 and October 2010, with a gap of two months, between August and October 2009, when the serving of his sentence was interrupted. After 28 October 2010 he was transferred to another cell.\\n\\n26.  In 2010 the CPT noted that the number of inmates housed in Kremikovtsi Prison Hostel in 2008 was 622, which was higher than its official capacity of 426 (see paragraphs 15 and 17 above). In 2008 the Bulgarian Helsinki Committee made similar findings (see paragraph 16 above). In his 2012 report the Ombudsman likewise noted severe overcrowding, poor hygiene and bad sanitary living conditions in Kremikovtsi Prison Hostel (see paragraph 18 above). All these findings match the applicant’s allegations (see paragraphs 8 and 9 above).\\n\\n27.  The Court refers to the principles established in its case-law regarding poor conditions of detention (see, a recent authority, Muršić v. Croatia [GC], no. 7334/13, §§ 96-101, ECHR 2016). It notes in particular that a severe lack of space in a detention cell weighs heavily for establishing whether conditions of detention amount to “degrading treatment” within the meaning of Article 3 of the Convention, and may disclose a violation, both alone or taken together with other shortcomings (ibid., §§ 122-41).\\n\\n28.  In the pilot case of Neshkov and Others v. Bulgaria (nos. 36925/10 and 5 others, §§ 245-56, 27 January 2015), the Court already found a breach of Article 3 of the Convention in relation to issues similar to those in the present case.\\n\\n29.  Having examined all the material before it and taking into account its case-law on this domain, the Court considers that the conditions of the applicant’s detention from 21 August 2009 until 28 October 2010 in Kremikovtsi Prison Hostel (with the exception of the period from 26 August 2009 until 26 October 2009, when the serving of the applicant’s sentence was interrupted) were in breach of Article 3 of the Convention.\\n\\n2.  The conditions of the applicant’s detention after 28 October 2010\\n\\n30.  The Court notes that the only point raised by the applicant in respect of the conditions of his detention after 28 October 2010, when he was transferred to another cell, relates to insufficient access to water for taking a shower due to lower water pressure. The Government disputed those allegations, saying that there had been no restrictions on the water supply.\\n\\n31.  Having regard to the overall conditions in which the applicant was detained in Kremikovtsi Prison Hostel after 28 October 2010, the Court concludes that they did not reach the threshold of severity required under Article 3 of the Convention.\\n\\n32.  It follows that there has been no breach of Article 3 of the Convention with respect to this period.\\n\\nIII.  APPLICATION OF ARTICLE 41 OF THE CONVENTION\\n\\n33.  Article 41 of the Convention provides:\\n\\n“If the Court finds that there has been a violation of the Convention or the Protocols thereto, and if the internal law of the High Contracting Party concerned allows only partial reparation to be made, the Court shall, if necessary, afford just satisfaction to the injured party.”\\n\\nA.  Damage\\n\\n34.  The applicant claimed 1,080,000 Bulgarian levs (BGN) (552,195 euros (EUR)) in respect of the income which he would have allegedly been able to earn if he had not been imprisoned. His representative claimed on his behalf EUR 6,000 in respect of non-pecuniary damage.\\n\\n35.  The Government submitted that the claims were unjustified and excessive.\\n\\n36.  Regarding the claim in respect of pecuniary damage, the Court finds no causal link between the conditions of the applicant’s detention and his alleged loss of earnings (see Dvoynykh v. Ukraine, no. 72277/01, § 76, 12 October 2006); that loss was due to his imprisonment rather than the conditions in which it took place.\\n\\n37.  As for the claim in respect of non-pecuniary damage, the Court notes that the breach of Article 3 of the Convention concerned the applicant’s detention in poor conditions for a period of about a year. Having regard to the materials in its possession and its case-law, the Court finds it reasonable to award him EUR 3,000 in respect of non-pecuniary damage.\\n\\nB.  Costs and expenses\\n\\n38.  The applicant sought reimbursement of EUR 1,140 incurred in lawyer’s fees for nineteen hours of work on his case after notice of the application had been given to the Government, at the rate of EUR 60 per hour. He also sought reimbursement of BGN 331 (EUR 169) incurred for the translation and copying of documents and for postage. He requested that any award under this head be made directly payable to his representative, Ms S. Margaritova-Vuchkova.\\n\\n39.  The Government submitted that the postal and translation expenses claimed by the applicant should be granted. They objected to the representative’s hourly rate, which in their view was excessive.\\n\\n40.  Having regard to the documents in its possession and its case-law, the Court finds it reasonable to award EUR 600 in respect of the legal fees incurred for the proceedings before the Court. With regard to the claim for other expenses, the Court notes that the documents submitted by the applicant showed that the expenses incurred by him were in fact BGN 326 (EUR 167), which sum should be awarded under this head of the claim.\\n\\nC.  Default interest\\n\\n41.  The Court considers it appropriate that the default interest rate should be based on the marginal lending rate of the European Central Bank, to which should be added three percentage points.</td>\n",
       "      <td>1.  Declares the complaint under Article 3 concerning the conditions of the applicant’s detention in Kremikovtsi Prison Hostel admissible;\\n\\n2.  Holds that there has been a violation of Article 3 of the Convention with respect to the applicant’s detention in Kremikovtsi Prison Hostel from 21 August 2009 until 28 October 2010 (with the exception of the period from 26 August 2009 until 26 October 2009);\\n\\n3.  Holds that there has been no violation of Article 3 of the Convention with respect to the applicant’s detention in Kremikovtsi Prison Hostel after 28 October 2010;\\n\\n4.  Holds\\n\\n(a)  that the respondent State is to pay the applicant within three months, the following amounts, to be converted into Bulgarian levs at the rate applicable at the date of settlement:\\n\\n(i)  EUR 3,000 (three thousand euros), plus any tax that may be chargeable, in respect of non-pecuniary damage;\\n\\n(ii)  EUR 767 (seven hundred and sixty-seven euros), plus any tax that may be chargeable to the applicant, in respect of costs and expenses, to be paid directly to his representative, Ms S. Margaritova-Vuchkova;\\n\\n(b)  that from the expiry of the above-mentioned three months until settlement simple interest shall be payable on the above amounts at a rate equal to the marginal lending rate of the European Central Bank during the default period plus three percentage points;\\n\\n5.  Dismisses the remainder of the applicant’s claim for just satisfaction.\\n\\nDone in English, and notified in writing on 15 February 2018, pursuant to Rule 77 §§ 2 and 3 of the Rules of Court.\\n\\n Anne-Marie DouginGabriele Kucsko-StadlmayerActing Deputy RegistrarPresident</td>\n",
       "    </tr>\n",
       "  </tbody>\n",
       "</table>\n",
       "</div>"
      ],
      "text/plain": [
       "             Name of Case        Section  \\\n",
       "0  HRISTOSKOV v. BULGARIA  Fifth Section   \n",
       "\n",
       "                                                                                                                                                                                                                                                                                                                                                                                                                                                                                                                                                                                                                                                                                                                                                                                                                                Procedure  \\\n",
       "0  1.  The case originated in an application (no. 50760/09) against the Republic of Bulgaria lodged with the Court under Article 34 of the Convention for the Protection of Human Rights and Fundamental Freedoms (“the Convention”) by a Bulgarian national, Mr Emil Petrov Hristoskov (“the applicant”), on 15 August 2009.\\n\\n2.  The applicant was represented by Ms S. Margaritova-Vuchkova, a lawyer practising in Sofia. The Bulgarian Government (“the Government”) were represented by their Agent, Mr V. Obretenov of the Ministry of Justice.\\n\\n3.  On 24 September 2015 the Government were given notice of the complaint concerning the conditions of the applicant’s detention in Kremikovtsi Prison Hostel, and the remainder of the application was declared inadmissible pursuant to Rule 54 § 3 of the Rules of Court.   \n",
       "\n",
       "                                                                                                                                                                                                                                                                                                                                                                                                                                                                                                                                                                                                                                                                                                                                                                                                                                                                                                                                                                                                                                                                                                                                                                                                                                                                                                                                                                                                                                                                                                                                                                                                                                                                                                                                                                                                                                                                                                                                                                                                                                                                                                                                                                                                                                                                                                                                                                                                                                                                                                                                                                                                                                                                                                                                                                                                                                                                                                                                                                                                                                                                                                                                                                                                                                                                                                                                                                                                                                                                                                                                                                                                                                                                                                                                                                                                                                                                                                                                                                                                                                                                                                                                                                                                                                                                                                                                                                                                                                                                                                                                                                                                                                                          Facts  \\\n",
       "0  I.  THE CIRCUMSTANCES OF THE CASE\\n\\n4.  The applicant was born in 1961 and is currently detained in Kremikovtsi Prison Hostel near Sofia.\\n\\n5.  In a final judgment of 23 February 2009, the applicant was convicted of murder and sentenced to twelve years’ imprisonment. On 6 April 2009 he entered Sofia Prison to serve his sentence. He did not say anything about the conditions of his detention there.\\n\\n6.  On 21 August 2009 he was transferred to Kremikovtsi Prison Hostel, a closed-type prison hostel.\\n\\n7.  On 26 August 2009 the serving of his sentence of imprisonment was interrupted in order for him to take care of his elderly mother, who had undergone hip-replacement surgery in July 2009. The interruption came to an end on 26 October 2009, and the applicant was again placed in Kremikovtsi Prison Hostel.\\n\\n8.  From 26 October 2009 until 28 October 2010 the applicant was placed in group no. 72. According to him, the group was housed in several cabins with cement floors. The cells were heated with wooden and coal stoves. They were damp and had many of their windows broken and doors shattered. Each cell had between thirty and thirty-five square metres of floor space and housed between sixteen and twenty-two inmates – that is, provided less than two square metres per inmate –, and had one sink and one toilet with a shower. According to the Government, the cell measured between thirty-five and forty square metres and housed around twelve inmates.\\n\\n9.  The applicant further said that cold water was only available between 6 and 8 a.m. and 6 and 8 p.m., and hot water was only available between 8 and 9 a.m. and 7 and 8 p.m. Hygienic and sanitary materials were not regularly provided. There was no canteen or dedicated eating space, and no cutlery. As a result of those conditions – mainly the cold and the humidity –he had developed arthritis of both knees.\\n\\n10.  On 28 October 2010 the applicant was transferred to group no. 6. He was placed in a cell which he shared with three to four other inmates. He also started working in the hostel’s canteen and had his meals there. According to the Government, the applicant had to share a cell with two to three inmates. The cell was heated with electricity and there were no water supply restrictions. The door and the windows were in good condition.\\n\\n11.  After the applicant’s prison regime was changed to a more lenient one, on 19 November 2014 he was placed in a cell outside the guarded area of the hostel. The Government submitted that his cell had its own sanitary facilities and that no water supply restrictions existed.\\n\\n12.  According to the applicant, material conditions in the cells in which he was placed after 28 October 2010 were significantly better in terms of heating, lighting and hygiene, and were satisfactory. Food was also of good quality. Taking a shower, however, was only possible after 10 p.m. due to low water pressure.\\n\\n13.  Lastly, the applicant alleged that health care in custody was inadequate, with no qualified doctors but only a dentist working on site, and no provision of medicines at reduced prices, as available to people out of prison.\\n\\nII.  RELEVANT REPORTS ON THE CONDITIONS IN KREMIKOVTSI PRISON HOSTEL\\n\\n14.  Kremikovtsi Prison is a closed-type prison hostel attached to Sofia Prison.\\n\\n15.  According to the 2010 report of the Committee for the Prevention of Torture and Inhuman or Degrading Treatment or Punishment (“the CPT”) on the visit to Bulgaria from 15 to 19 December 2008, in 2008 the number of the inmates detained in that facility was 622.\\n\\n16.  In its 2008 report The Prisons in Bulgaria the Bulgarian Helsinki Committee noted poor material conditions, overcrowding and problems with health care in closed-types prison hostels. According to the same report in 2007 the health-care staff in Kremikovtsi Prison Hostel consisted only of a dentist and a feldsher.\\n\\n17.  According to information provided by the Government to the Council of Europe’s Committee of Ministers, in December 2013 the official capacity of the prison hostel was 426, whereas the actual number of inmates housed there was 493 (see Neshkov and Others v. Bulgaria, nos. 36925/10 and 5 others, § 143, 27 January 2015).\\n\\n18.  In the 2012 report and 2016 report adopted under the national preventive mechanism, the Ombudsman of Bulgaria recommended that Kremikovtsi Prison Hostel be closed due to severe overcrowding, poor hygiene and unsanitary living conditions.   \n",
       "\n",
       "                                                                                                                                                                                                                                                                                                                                                                                                                                                                                                                                                                                                                                                                                                                                                                                                                                                                                                                                                                                                                                                                                                                                                                                                                                                                                                                                                                                                                                                                                                                                                                                                                                                                                                                                                                                                                                                                                                                                                                                                                                                                                                                                                                                                                                                                                                                                                                                                                                                                                                                                                                                                                                                                                                                                                                                                                                                                                                                                                                                                                                                                                                                                                                                                                                                                                                                                                                                                                                                                                                                                                                                                                                                                                                                                                                                                                                                                                                                                                                                                                                                                                                                                                                                                                                                                                                                                                                                                                                                                                                                                                                                                                                                                                                                                                                                                                                                                                                                                                                                                                                                                                                                                                                                                                                                                                                                                                                                                                                                                                                                                                                                                                                                                                                                                                                                                                                                                                                                                                                                                                                                                                                                                                                                                                                                                                                                                                                                                                                                                                                                                                                                                                                                                                                                                                                                                                                                                                                                                                                                                                                                                                                                                                                                                                                                                                                                                                                                                                                                                                                                                                                                                                                                                                                                                                                                                                                                                                                                                                                                                                                                                                                                                                                                                                                                                                                                                                                                                                                                                                                                                                                                                                                                                                                                                                                                                                   The Law  \\\n",
       "0  I.  SCOPE OF THE CASE\\n\\n19.  After notice of the application was given to the Government, in his observations of 29 March 2016 in reply to those of the Government the applicant, who suffers from thyroid dysfunction and arthritis, complained under Article 3 of the Convention that he had not been provided with proper health care for these medical conditions in custody. Relying on the same Article, he also complained that his mother had died in February 2016 because he had been unable to take care of her owing to the authorities’ refusal to interrupt the serving of his sentence or to grant him early release.\\n\\n20.  The Government did not comment on these points.\\n\\n21.  The Court notes that in his initial application the applicant did not raise a complaint about the lack of proper medical care in custody, separate from the complaint about the material conditions of his detention. In his initial application he did rely on Article 3 of the Convention with regard to the authorities’ refusal to interrupt the serving of his sentence in 2009, when his mother had undergone hip-replacement surgery, and with regard to the prison authorities’ alleged failure to manage properly the hunger strike which he had undertaken to protest against that refusal; those complaints were declared inadmissible by the President under Rule 54 § 3 of the Rules of Court. However, the two complaints raised after notice of the application was given to the Government concern new facts, which took place several years after the lodging of the application in 2009.\\n\\n22.  In these circumstances, the two complaints raised in the applicant’s observations in reply to those of the Government must be regarded as new rather than an elaboration of the original complaint concerning the conditions of his detention. It is therefore not appropriate to take them up for examination at this stage (see, among other authorities, Shesti Mai Engineering OOD and Others v. Bulgaria, no. 17854/04, § 94, 20 September 2011, Rafig Aliyev v. Azerbaijan, no. 45875/06, § 69, 6 December 2011; and Yefimova v. Russia, no. 39786/09, § 177, 19 February 2013).\\n\\nII.  THE CONDITIONS OF THE APPLICANT’S DETENTION\\n\\n23.  The applicant complained of the conditions of his detention in Kremikovtsi Prison Hostel. He relied on Article 3 of the Convention, which provides:\\n\\n“No one shall be subjected to torture or to inhuman or degrading treatment or punishment.”\\n\\nA.  Admissibility\\n\\n24.  The complaint is not manifestly ill-founded within the meaning of Article 35 § 3 (a) of the Convention or inadmissible on any other grounds. It must therefore be declared admissible.\\n\\nB.  Merits\\n\\n1.  The conditions of the applicant’s detention from 21 August 2009 until 28 October 2010\\n\\n25.  The applicant was initially housed in one of the buildings of Kremikovtsi Prison Hostel situated in the guarded area of the hostel. He remained there a little more than a year, between August 2009 and October 2010, with a gap of two months, between August and October 2009, when the serving of his sentence was interrupted. After 28 October 2010 he was transferred to another cell.\\n\\n26.  In 2010 the CPT noted that the number of inmates housed in Kremikovtsi Prison Hostel in 2008 was 622, which was higher than its official capacity of 426 (see paragraphs 15 and 17 above). In 2008 the Bulgarian Helsinki Committee made similar findings (see paragraph 16 above). In his 2012 report the Ombudsman likewise noted severe overcrowding, poor hygiene and bad sanitary living conditions in Kremikovtsi Prison Hostel (see paragraph 18 above). All these findings match the applicant’s allegations (see paragraphs 8 and 9 above).\\n\\n27.  The Court refers to the principles established in its case-law regarding poor conditions of detention (see, a recent authority, Muršić v. Croatia [GC], no. 7334/13, §§ 96-101, ECHR 2016). It notes in particular that a severe lack of space in a detention cell weighs heavily for establishing whether conditions of detention amount to “degrading treatment” within the meaning of Article 3 of the Convention, and may disclose a violation, both alone or taken together with other shortcomings (ibid., §§ 122-41).\\n\\n28.  In the pilot case of Neshkov and Others v. Bulgaria (nos. 36925/10 and 5 others, §§ 245-56, 27 January 2015), the Court already found a breach of Article 3 of the Convention in relation to issues similar to those in the present case.\\n\\n29.  Having examined all the material before it and taking into account its case-law on this domain, the Court considers that the conditions of the applicant’s detention from 21 August 2009 until 28 October 2010 in Kremikovtsi Prison Hostel (with the exception of the period from 26 August 2009 until 26 October 2009, when the serving of the applicant’s sentence was interrupted) were in breach of Article 3 of the Convention.\\n\\n2.  The conditions of the applicant’s detention after 28 October 2010\\n\\n30.  The Court notes that the only point raised by the applicant in respect of the conditions of his detention after 28 October 2010, when he was transferred to another cell, relates to insufficient access to water for taking a shower due to lower water pressure. The Government disputed those allegations, saying that there had been no restrictions on the water supply.\\n\\n31.  Having regard to the overall conditions in which the applicant was detained in Kremikovtsi Prison Hostel after 28 October 2010, the Court concludes that they did not reach the threshold of severity required under Article 3 of the Convention.\\n\\n32.  It follows that there has been no breach of Article 3 of the Convention with respect to this period.\\n\\nIII.  APPLICATION OF ARTICLE 41 OF THE CONVENTION\\n\\n33.  Article 41 of the Convention provides:\\n\\n“If the Court finds that there has been a violation of the Convention or the Protocols thereto, and if the internal law of the High Contracting Party concerned allows only partial reparation to be made, the Court shall, if necessary, afford just satisfaction to the injured party.”\\n\\nA.  Damage\\n\\n34.  The applicant claimed 1,080,000 Bulgarian levs (BGN) (552,195 euros (EUR)) in respect of the income which he would have allegedly been able to earn if he had not been imprisoned. His representative claimed on his behalf EUR 6,000 in respect of non-pecuniary damage.\\n\\n35.  The Government submitted that the claims were unjustified and excessive.\\n\\n36.  Regarding the claim in respect of pecuniary damage, the Court finds no causal link between the conditions of the applicant’s detention and his alleged loss of earnings (see Dvoynykh v. Ukraine, no. 72277/01, § 76, 12 October 2006); that loss was due to his imprisonment rather than the conditions in which it took place.\\n\\n37.  As for the claim in respect of non-pecuniary damage, the Court notes that the breach of Article 3 of the Convention concerned the applicant’s detention in poor conditions for a period of about a year. Having regard to the materials in its possession and its case-law, the Court finds it reasonable to award him EUR 3,000 in respect of non-pecuniary damage.\\n\\nB.  Costs and expenses\\n\\n38.  The applicant sought reimbursement of EUR 1,140 incurred in lawyer’s fees for nineteen hours of work on his case after notice of the application had been given to the Government, at the rate of EUR 60 per hour. He also sought reimbursement of BGN 331 (EUR 169) incurred for the translation and copying of documents and for postage. He requested that any award under this head be made directly payable to his representative, Ms S. Margaritova-Vuchkova.\\n\\n39.  The Government submitted that the postal and translation expenses claimed by the applicant should be granted. They objected to the representative’s hourly rate, which in their view was excessive.\\n\\n40.  Having regard to the documents in its possession and its case-law, the Court finds it reasonable to award EUR 600 in respect of the legal fees incurred for the proceedings before the Court. With regard to the claim for other expenses, the Court notes that the documents submitted by the applicant showed that the expenses incurred by him were in fact BGN 326 (EUR 167), which sum should be awarded under this head of the claim.\\n\\nC.  Default interest\\n\\n41.  The Court considers it appropriate that the default interest rate should be based on the marginal lending rate of the European Central Bank, to which should be added three percentage points.   \n",
       "\n",
       "                                                                                                                                                                                                                                                                                                                                                                                                                                                                                                                                                                                                                                                                                                                                                                                                                                                                                                                                                                                                                                                                                                                                                                                                                                                                                                                                                                                                                                                                                                                                                                                                                                                                                                         After Reasons  \n",
       "0  1.  Declares the complaint under Article 3 concerning the conditions of the applicant’s detention in Kremikovtsi Prison Hostel admissible;\\n\\n2.  Holds that there has been a violation of Article 3 of the Convention with respect to the applicant’s detention in Kremikovtsi Prison Hostel from 21 August 2009 until 28 October 2010 (with the exception of the period from 26 August 2009 until 26 October 2009);\\n\\n3.  Holds that there has been no violation of Article 3 of the Convention with respect to the applicant’s detention in Kremikovtsi Prison Hostel after 28 October 2010;\\n\\n4.  Holds\\n\\n(a)  that the respondent State is to pay the applicant within three months, the following amounts, to be converted into Bulgarian levs at the rate applicable at the date of settlement:\\n\\n(i)  EUR 3,000 (three thousand euros), plus any tax that may be chargeable, in respect of non-pecuniary damage;\\n\\n(ii)  EUR 767 (seven hundred and sixty-seven euros), plus any tax that may be chargeable to the applicant, in respect of costs and expenses, to be paid directly to his representative, Ms S. Margaritova-Vuchkova;\\n\\n(b)  that from the expiry of the above-mentioned three months until settlement simple interest shall be payable on the above amounts at a rate equal to the marginal lending rate of the European Central Bank during the default period plus three percentage points;\\n\\n5.  Dismisses the remainder of the applicant’s claim for just satisfaction.\\n\\nDone in English, and notified in writing on 15 February 2018, pursuant to Rule 77 §§ 2 and 3 of the Rules of Court.\\n\\n Anne-Marie DouginGabriele Kucsko-StadlmayerActing Deputy RegistrarPresident  "
      ]
     },
     "execution_count": 59,
     "metadata": {},
     "output_type": "execute_result"
    }
   ],
   "source": [
    "# pd.set_option('display.max_colwidth', -1)\n",
    "df.head()"
   ]
  },
  {
   "cell_type": "code",
   "execution_count": 26,
   "metadata": {},
   "outputs": [
    {
     "data": {
      "text/plain": [
       "0    1.  The case originated in two applications (n...\n",
       "Name: Procedure, dtype: object"
      ]
     },
     "execution_count": 26,
     "metadata": {},
     "output_type": "execute_result"
    }
   ],
   "source": [
    "df[\"Procedure\"]"
   ]
  },
  {
   "cell_type": "code",
   "execution_count": 29,
   "metadata": {},
   "outputs": [],
   "source": [
    "df.to_csv(\"test.csv\")"
   ]
  },
  {
   "cell_type": "code",
   "execution_count": null,
   "metadata": {},
   "outputs": [],
   "source": []
  },
  {
   "cell_type": "markdown",
   "metadata": {},
   "source": [
    "# ##############################################################"
   ]
  },
  {
   "cell_type": "markdown",
   "metadata": {},
   "source": [
    "# Working"
   ]
  },
  {
   "cell_type": "code",
   "execution_count": 44,
   "metadata": {},
   "outputs": [
    {
     "data": {
      "text/html": [
       "<div>\n",
       "<style scoped>\n",
       "    .dataframe tbody tr th:only-of-type {\n",
       "        vertical-align: middle;\n",
       "    }\n",
       "\n",
       "    .dataframe tbody tr th {\n",
       "        vertical-align: top;\n",
       "    }\n",
       "\n",
       "    .dataframe thead th {\n",
       "        text-align: right;\n",
       "    }\n",
       "</style>\n",
       "<table border=\"1\" class=\"dataframe\">\n",
       "  <thead>\n",
       "    <tr style=\"text-align: right;\">\n",
       "      <th></th>\n",
       "      <th>Case Name</th>\n",
       "      <th>Date of Case</th>\n",
       "      <th>Committee Members</th>\n",
       "      <th>PROCEDURE</th>\n",
       "      <th>THE FACTS</th>\n",
       "      <th>THE LAW</th>\n",
       "      <th>Judgment</th>\n",
       "    </tr>\n",
       "  </thead>\n",
       "  <tbody>\n",
       "    <tr>\n",
       "      <th>0</th>\n",
       "      <td>Pihoni v. Albania</td>\n",
       "      <td>13 February 2018</td>\n",
       "      <td>Second Section</td>\n",
       "      <td>1.  The case originated in an application (no....</td>\n",
       "      <td>I.  THE CIRCUMSTANCES OF THE CASE\\n\\n5.  The a...</td>\n",
       "      <td>\\nI.  ALLEGED VIOLATION OF ARTICLES 3 AND 13 O...</td>\n",
       "      <td>1.  Decides to join to the merits the Governme...</td>\n",
       "    </tr>\n",
       "  </tbody>\n",
       "</table>\n",
       "</div>"
      ],
      "text/plain": [
       "           Case Name      Date of Case Committee Members  \\\n",
       "0  Pihoni v. Albania  13 February 2018    Second Section   \n",
       "\n",
       "                                           PROCEDURE  \\\n",
       "0  1.  The case originated in an application (no....   \n",
       "\n",
       "                                           THE FACTS  \\\n",
       "0  I.  THE CIRCUMSTANCES OF THE CASE\\n\\n5.  The a...   \n",
       "\n",
       "                                             THE LAW  \\\n",
       "0  \\nI.  ALLEGED VIOLATION OF ARTICLES 3 AND 13 O...   \n",
       "\n",
       "                                            Judgment  \n",
       "0  1.  Decides to join to the merits the Governme...  "
      ]
     },
     "execution_count": 44,
     "metadata": {},
     "output_type": "execute_result"
    }
   ],
   "source": [
    "import pandas as pd\n",
    "import re\n",
    "import os \n",
    "\n",
    "\n",
    "directory_path = r\"C:\\Users\\Najeeb\\Desktop\\SIT Semesters\\Sem 5\\LAWWWWWWWWWWWWWWWWW\\Dataset\\nv3\\nv3\"\n",
    "\n",
    "# Iterate through all files in the directory\n",
    "\n",
    "filename = \"3.txt\"\n",
    "# Read the text file using a 'with' statement\n",
    "file_path = os.path.join(directory_path, filename)\n",
    "with open(file_path, 'r', encoding='utf-8') as file:\n",
    "    text = file.read()\n",
    "# Define regular expressions to extract information\n",
    "case_name_pattern = r\"In the case of (.+),\"\n",
    "date_pattern = r\"STRASBOURG\\n\\n(\\d+ \\w+ \\d{4})\"\n",
    "committee_members_pattern = r\"The European Court of Human Rights \\((.+)\\), sitting\"\n",
    "procedure_pattern = r\"PROCEDURE\\n\\n(.+?)\\n\\nTHE FACTS\"\n",
    "facts_pattern = r\"THE FACTS\\n\\n(.+?)\\n\\nTHE LAW\"\n",
    "law_pattern = r\"THE LAW\\n(.+?)\\nFOR THESE REASONS, THE COURT UNANIMOUSLY\"\n",
    "judgement_pattern = r\"FOR THESE REASONS, THE COURT UNANIMOUSLY\\n\\n(.+?)\\n\\nDone in\"\n",
    "\n",
    "# Extract information using regular expressions\n",
    "case_name = re.search(case_name_pattern, text).group(1)\n",
    "date_of_case = re.search(date_pattern, text).group(1)\n",
    "committee_members = re.search(committee_members_pattern, text).group(1)\n",
    "procedure_info = re.search(procedure_pattern, text, re.DOTALL).group(1)\n",
    "facts_info = re.search(facts_pattern, text, re.DOTALL).group(1)\n",
    "law_info = re.search(law_pattern, text, re.DOTALL).group(1)\n",
    "judgment_info = re.search(judgement_pattern, text, re.DOTALL).group(1)\n",
    "\n",
    "# Create a DataFrame\n",
    "data = {\n",
    "    'Case Name': [case_name],\n",
    "    'Date of Case': [date_of_case],\n",
    "    'Committee Members': [committee_members],\n",
    "    'PROCEDURE': [procedure_info],\n",
    "    'THE FACTS': [facts_info],\n",
    "    'THE LAW': [law_info],\n",
    "    'Judgment': [judgment_info]\n",
    "}\n",
    "\n",
    "df = pd.DataFrame(data)\n",
    "\n",
    "df.head()"
   ]
  },
  {
   "cell_type": "code",
   "execution_count": null,
   "metadata": {},
   "outputs": [],
   "source": []
  },
  {
   "cell_type": "code",
   "execution_count": 48,
   "metadata": {},
   "outputs": [
    {
     "ename": "AttributeError",
     "evalue": "'NoneType' object has no attribute 'group'",
     "output_type": "error",
     "traceback": [
      "\u001b[1;31m---------------------------------------------------------------------------\u001b[0m",
      "\u001b[1;31mAttributeError\u001b[0m                            Traceback (most recent call last)",
      "\u001b[1;32mc:\\Users\\Najeeb\\Desktop\\SIT Semesters\\Sem 5\\LAWWWWWWWWWWWWWWWWW\\refining dataset.ipynb Cell 24\u001b[0m line \u001b[0;36m<cell line: 12>\u001b[1;34m()\u001b[0m\n\u001b[0;32m     <a href='vscode-notebook-cell:/c%3A/Users/Najeeb/Desktop/SIT%20Semesters/Sem%205/LAWWWWWWWWWWWWWWWWW/refining%20dataset.ipynb#X33sZmlsZQ%3D%3D?line=28'>29</a>\u001b[0m case_name \u001b[39m=\u001b[39m re\u001b[39m.\u001b[39msearch(case_name_pattern, text)\u001b[39m.\u001b[39mgroup(\u001b[39m1\u001b[39m)\n\u001b[0;32m     <a href='vscode-notebook-cell:/c%3A/Users/Najeeb/Desktop/SIT%20Semesters/Sem%205/LAWWWWWWWWWWWWWWWWW/refining%20dataset.ipynb#X33sZmlsZQ%3D%3D?line=29'>30</a>\u001b[0m date_of_case \u001b[39m=\u001b[39m re\u001b[39m.\u001b[39msearch(date_pattern, text)\u001b[39m.\u001b[39mgroup(\u001b[39m1\u001b[39m)\n\u001b[1;32m---> <a href='vscode-notebook-cell:/c%3A/Users/Najeeb/Desktop/SIT%20Semesters/Sem%205/LAWWWWWWWWWWWWWWWWW/refining%20dataset.ipynb#X33sZmlsZQ%3D%3D?line=30'>31</a>\u001b[0m committee_match \u001b[39m=\u001b[39m re\u001b[39m.\u001b[39;49msearch(committee_members_pattern, text)\u001b[39m.\u001b[39;49mgroup(\u001b[39m1\u001b[39m)\n\u001b[0;32m     <a href='vscode-notebook-cell:/c%3A/Users/Najeeb/Desktop/SIT%20Semesters/Sem%205/LAWWWWWWWWWWWWWWWWW/refining%20dataset.ipynb#X33sZmlsZQ%3D%3D?line=31'>32</a>\u001b[0m procedure_match \u001b[39m=\u001b[39m re\u001b[39m.\u001b[39msearch(procedure_pattern, text, re\u001b[39m.\u001b[39mDOTALL)\n\u001b[0;32m     <a href='vscode-notebook-cell:/c%3A/Users/Najeeb/Desktop/SIT%20Semesters/Sem%205/LAWWWWWWWWWWWWWWWWW/refining%20dataset.ipynb#X33sZmlsZQ%3D%3D?line=32'>33</a>\u001b[0m facts_match \u001b[39m=\u001b[39m re\u001b[39m.\u001b[39msearch(facts_pattern, text, re\u001b[39m.\u001b[39mDOTALL)\n",
      "\u001b[1;31mAttributeError\u001b[0m: 'NoneType' object has no attribute 'group'"
     ]
    }
   ],
   "source": [
    "import pandas as pd\n",
    "import re\n",
    "import os \n",
    "\n",
    "# Define the directory path\n",
    "directory_path = r\"C:\\Users\\Najeeb\\Desktop\\SIT Semesters\\Sem 5\\LAWWWWWWWWWWWWWWWWW\\Dataset\\nv3\\nv3\"\n",
    "\n",
    "# Initialize an empty list to store data from all files\n",
    "data_list = []\n",
    "\n",
    "# Iterate through all files in the directory\n",
    "for filename in os.listdir(directory_path):\n",
    "    if filename.endswith(\".txt\"):\n",
    "        # Read the text file using a 'with' statement\n",
    "        file_path = os.path.join(directory_path, filename)\n",
    "        with open(file_path, 'r', encoding='utf-8') as file:\n",
    "            text = file.read()\n",
    "        \n",
    "        # Define regular expressions to extract information\n",
    "        case_name_pattern = r\"In the case of (.+),\"\n",
    "        date_pattern = r\"STRASBOURG\\n\\n(\\d+ \\w+ \\d{4})\"\n",
    "        committee_members_pattern = r\"The European Court of Human Rights \\((.+)\\), sitting\"\n",
    "        procedure_pattern = r\"PROCEDURE\\n\\n(.+?)\\n\\nTHE FACTS\"\n",
    "        facts_pattern = r\"THE FACTS\\n\\n(.+?)\\n\\nTHE LAW\"\n",
    "        law_pattern = r\"THE LAW\\n\\n(.+?)\\n\\nFOR THESE REASONS, THE COURT, UNANIMOUSLY\"\n",
    "        judgement_pattern = r\"FOR THESE REASONS, THE COURT, UNANIMOUSLY,\\n\\n(.+?)\\n\\nDone in\"\n",
    "        \n",
    "        # Extract information using regular expressions\n",
    "        case_name = re.search(case_name_pattern, text).group(1)\n",
    "        date_of_case = re.search(date_pattern, text).group(1)\n",
    "        committee_match = re.search(committee_members_pattern, text).group(1)\n",
    "        procedure_match = re.search(procedure_pattern, text, re.DOTALL)\n",
    "        facts_match = re.search(facts_pattern, text, re.DOTALL)\n",
    "        law_match = re.search(law_pattern, text, re.DOTALL)\n",
    "        judgment_match = re.search(judgement_pattern, text, re.DOTALL)\n",
    "        \n",
    "        # Check if matches were found before accessing groups\n",
    "        if committee_match:\n",
    "            committee_info = committee_match\n",
    "        else:\n",
    "            committee_info = None\n",
    "             \n",
    "        \n",
    "        if procedure_match:\n",
    "            procedure_info = procedure_match.group(1)\n",
    "        else:\n",
    "            procedure_info = None\n",
    "        \n",
    "        if facts_match:\n",
    "            facts_info = facts_match.group(1)\n",
    "        else:\n",
    "            facts_info = None\n",
    "        \n",
    "        if law_match:\n",
    "            law_info = law_match.group(1)\n",
    "        else:\n",
    "            law_info = None\n",
    "        \n",
    "        if judgment_match:\n",
    "            judgment_info = judgment_match.group(1)\n",
    "        else:\n",
    "            judgment_info = None\n",
    "        \n",
    "        # Append the extracted data to the list\n",
    "        data_list.append({\n",
    "            'Case Name': case_name,\n",
    "            'Date of Case': date_of_case,\n",
    "            'Committee Members': committee_members,\n",
    "            'PROCEDURE': procedure_info,\n",
    "            'THE FACTS': facts_info,\n",
    "            'THE LAW': law_info,\n",
    "            'Judgment': judgment_info\n",
    "        })\n",
    "\n",
    "# Create a DataFrame from the list of data\n",
    "df = pd.DataFrame(data_list)\n",
    "\n",
    "# Display the DataFrame\n",
    "df.head()\n"
   ]
  },
  {
   "cell_type": "code",
   "execution_count": null,
   "metadata": {},
   "outputs": [],
   "source": []
  }
 ],
 "metadata": {
  "kernelspec": {
   "display_name": "Python 3",
   "language": "python",
   "name": "python3"
  },
  "language_info": {
   "codemirror_mode": {
    "name": "ipython",
    "version": 3
   },
   "file_extension": ".py",
   "mimetype": "text/x-python",
   "name": "python",
   "nbconvert_exporter": "python",
   "pygments_lexer": "ipython3",
   "version": "3.10.5"
  },
  "orig_nbformat": 4
 },
 "nbformat": 4,
 "nbformat_minor": 2
}
